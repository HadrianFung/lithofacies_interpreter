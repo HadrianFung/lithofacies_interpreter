{
 "cells": [
  {
   "cell_type": "markdown",
   "metadata": {},
   "source": [
    "# Import Package"
   ]
  },
  {
   "cell_type": "code",
   "execution_count": 1,
   "metadata": {},
   "outputs": [],
   "source": [
    "from geointerpreter import Interpreter\n",
    "import warnings\n",
    "from geointerpreter.extras.transformers import *\n",
    "warnings.filterwarnings(\"ignore\")"
   ]
  },
  {
   "cell_type": "markdown",
   "metadata": {},
   "source": [
    "# Instantiate `interpreter` object"
   ]
  },
  {
   "cell_type": "code",
   "execution_count": 2,
   "metadata": {},
   "outputs": [
    {
     "name": "stdout",
     "output_type": "stream",
     "text": [
      "Loading 205-21b-3...\n"
     ]
    }
   ],
   "source": [
    "interpreter = Interpreter()"
   ]
  },
  {
   "cell_type": "markdown",
   "metadata": {},
   "source": [
    "# Load Model Example"
   ]
  },
  {
   "cell_type": "code",
   "execution_count": 3,
   "metadata": {},
   "outputs": [
    {
     "data": {
      "text/plain": [
       "{}"
      ]
     },
     "execution_count": 3,
     "metadata": {},
     "output_type": "execute_result"
    }
   ],
   "source": [
    "interpreter.models"
   ]
  },
  {
   "cell_type": "code",
   "execution_count": 4,
   "metadata": {},
   "outputs": [
    {
     "name": "stdout",
     "output_type": "stream",
     "text": [
      "Loading RandomForest...\n"
     ]
    }
   ],
   "source": [
    "interpreter.load_models([\"RandomForest\"])"
   ]
  },
  {
   "cell_type": "code",
   "execution_count": 5,
   "metadata": {},
   "outputs": [
    {
     "data": {
      "text/plain": [
       "{'RandomForest': Pipeline(steps=[('preproccessing_pipeline',\n",
       "                  Pipeline(steps=[('SP_transformer', SP_transformer()),\n",
       "                                  ('custom_imputer', custom_imputer()),\n",
       "                                  ('SP_imputer', SP_imputer()),\n",
       "                                  ('combined_pipeline',\n",
       "                                   ColumnTransformer(transformers=[('numerical_transformer',\n",
       "                                                                    Pipeline(steps=[('numerical_transformer',\n",
       "                                                                                     ColumnTransformer(transformers=[('to_log',\n",
       "                                                                                                                      FunctionTransformer(func=<ufun...\n",
       "                                                                                     StandardScaler())]),\n",
       "                                                                    ['CALI',\n",
       "                                                                     'GR', 'PEF',\n",
       "                                                                     'NEUT',\n",
       "                                                                     'DENS',\n",
       "                                                                     'POROSITY_(HELIUM)',\n",
       "                                                                     'SP', 'DTC',\n",
       "                                                                     'DTS']),\n",
       "                                                                   ('categorical_transformer',\n",
       "                                                                    Pipeline(steps=[('onehot',\n",
       "                                                                                     OneHotEncoder(handle_unknown='ignore'))]),\n",
       "                                                                    ['Facies '\n",
       "                                                                     'Class '\n",
       "                                                                     'Name'])]))])),\n",
       "                 ('rf',\n",
       "                  RandomForestRegressor(max_depth=13, max_features='sqrt',\n",
       "                                        min_samples_leaf=2, min_samples_split=10,\n",
       "                                        n_estimators=22, n_jobs=-1,\n",
       "                                        random_state=42))])}"
      ]
     },
     "execution_count": 5,
     "metadata": {},
     "output_type": "execute_result"
    }
   ],
   "source": [
    "interpreter.models"
   ]
  },
  {
   "cell_type": "markdown",
   "metadata": {},
   "source": [
    "# Prediction Example"
   ]
  },
  {
   "cell_type": "code",
   "execution_count": 6,
   "metadata": {},
   "outputs": [
    {
     "name": "stdout",
     "output_type": "stream",
     "text": [
      "Loading RandomClass...\n"
     ]
    },
    {
     "data": {
      "text/plain": [
       "0      378.425561\n",
       "1      421.558453\n",
       "2      488.241707\n",
       "3      470.190559\n",
       "4      356.719436\n",
       "          ...    \n",
       "172    351.203147\n",
       "173    999.257643\n",
       "174    312.488628\n",
       "175    369.174853\n",
       "176    438.116422\n",
       "Name: permeability, Length: 177, dtype: float64"
      ]
     },
     "execution_count": 6,
     "metadata": {},
     "output_type": "execute_result"
    }
   ],
   "source": [
    "interpreter.predict_permeability(method=\"RandomForest\",)"
   ]
  },
  {
   "cell_type": "markdown",
   "metadata": {},
   "source": [
    "# Update `DataFrame` Example"
   ]
  },
  {
   "cell_type": "code",
   "execution_count": 7,
   "metadata": {},
   "outputs": [
    {
     "name": "stdout",
     "output_type": "stream",
     "text": [
      "Loading ConcatCNN...\n",
      "Dataframe updated with predicted facies\n",
      "Loading SVR...\n",
      "Dataframe updated with predicted permeability\n"
     ]
    }
   ],
   "source": [
    "interpreter.update_df(facies_method=\"ConcatCNN\", permeability_method=\"SVR\")"
   ]
  },
  {
   "cell_type": "code",
   "execution_count": 8,
   "metadata": {},
   "outputs": [
    {
     "data": {
      "text/html": [
       "<div>\n",
       "<style scoped>\n",
       "    .dataframe tbody tr th:only-of-type {\n",
       "        vertical-align: middle;\n",
       "    }\n",
       "\n",
       "    .dataframe tbody tr th {\n",
       "        vertical-align: top;\n",
       "    }\n",
       "\n",
       "    .dataframe thead th {\n",
       "        text-align: right;\n",
       "    }\n",
       "</style>\n",
       "<table border=\"1\" class=\"dataframe\">\n",
       "  <thead>\n",
       "    <tr style=\"text-align: right;\">\n",
       "      <th></th>\n",
       "      <th>DEPTH</th>\n",
       "      <th>AT10</th>\n",
       "      <th>AT20</th>\n",
       "      <th>AT30</th>\n",
       "      <th>AT60</th>\n",
       "      <th>AT90</th>\n",
       "      <th>CALI</th>\n",
       "      <th>DENC</th>\n",
       "      <th>DENS</th>\n",
       "      <th>DTC</th>\n",
       "      <th>...</th>\n",
       "      <th>lat</th>\n",
       "      <th>depth_file</th>\n",
       "      <th>core_depths</th>\n",
       "      <th>image_file</th>\n",
       "      <th>porosity</th>\n",
       "      <th>DTS</th>\n",
       "      <th>RSHAL</th>\n",
       "      <th>RMED</th>\n",
       "      <th>facies</th>\n",
       "      <th>permeability</th>\n",
       "    </tr>\n",
       "  </thead>\n",
       "  <tbody>\n",
       "    <tr>\n",
       "      <th>0</th>\n",
       "      <td>1812.1128</td>\n",
       "      <td>30.0065</td>\n",
       "      <td>36.7240</td>\n",
       "      <td>35.2649</td>\n",
       "      <td>23.4317</td>\n",
       "      <td>23.9072</td>\n",
       "      <td>12.1180</td>\n",
       "      <td>-0.0042</td>\n",
       "      <td>2.1037</td>\n",
       "      <td>114.4911</td>\n",
       "      <td>...</td>\n",
       "      <td>60.32</td>\n",
       "      <td>/home/aan23/code/ads-arcadia-reservoirrocks/ge...</td>\n",
       "      <td>(1812.0, 1839.0)</td>\n",
       "      <td>/home/aan23/code/ads-arcadia-reservoirrocks/ge...</td>\n",
       "      <td>23.372133</td>\n",
       "      <td>216.7765</td>\n",
       "      <td>33.36525</td>\n",
       "      <td>29.34830</td>\n",
       "      <td>sh</td>\n",
       "      <td>341.340980</td>\n",
       "    </tr>\n",
       "    <tr>\n",
       "      <th>1</th>\n",
       "      <td>1812.2652</td>\n",
       "      <td>22.9037</td>\n",
       "      <td>25.8406</td>\n",
       "      <td>25.6090</td>\n",
       "      <td>20.0650</td>\n",
       "      <td>19.8106</td>\n",
       "      <td>12.2103</td>\n",
       "      <td>-0.0040</td>\n",
       "      <td>2.1119</td>\n",
       "      <td>114.2857</td>\n",
       "      <td>...</td>\n",
       "      <td>60.32</td>\n",
       "      <td>/home/aan23/code/ads-arcadia-reservoirrocks/ge...</td>\n",
       "      <td>(1812.0, 1839.0)</td>\n",
       "      <td>/home/aan23/code/ads-arcadia-reservoirrocks/ge...</td>\n",
       "      <td>24.032533</td>\n",
       "      <td>216.3390</td>\n",
       "      <td>24.37215</td>\n",
       "      <td>22.83700</td>\n",
       "      <td>sh</td>\n",
       "      <td>334.483227</td>\n",
       "    </tr>\n",
       "    <tr>\n",
       "      <th>2</th>\n",
       "      <td>1812.4176</td>\n",
       "      <td>10.9299</td>\n",
       "      <td>11.0440</td>\n",
       "      <td>11.5311</td>\n",
       "      <td>13.7229</td>\n",
       "      <td>13.2441</td>\n",
       "      <td>12.3622</td>\n",
       "      <td>-0.0022</td>\n",
       "      <td>2.1415</td>\n",
       "      <td>113.9048</td>\n",
       "      <td>...</td>\n",
       "      <td>60.32</td>\n",
       "      <td>/home/aan23/code/ads-arcadia-reservoirrocks/ge...</td>\n",
       "      <td>(1812.0, 1839.0)</td>\n",
       "      <td>/home/aan23/code/ads-arcadia-reservoirrocks/ge...</td>\n",
       "      <td>23.273333</td>\n",
       "      <td>222.1246</td>\n",
       "      <td>10.98695</td>\n",
       "      <td>12.62700</td>\n",
       "      <td>sh</td>\n",
       "      <td>303.826644</td>\n",
       "    </tr>\n",
       "    <tr>\n",
       "      <th>3</th>\n",
       "      <td>1812.5700</td>\n",
       "      <td>9.0866</td>\n",
       "      <td>8.9859</td>\n",
       "      <td>9.4058</td>\n",
       "      <td>10.9573</td>\n",
       "      <td>10.7390</td>\n",
       "      <td>12.3830</td>\n",
       "      <td>-0.0002</td>\n",
       "      <td>2.1711</td>\n",
       "      <td>113.7173</td>\n",
       "      <td>...</td>\n",
       "      <td>60.32</td>\n",
       "      <td>/home/aan23/code/ads-arcadia-reservoirrocks/ge...</td>\n",
       "      <td>(1812.0, 1839.0)</td>\n",
       "      <td>/home/aan23/code/ads-arcadia-reservoirrocks/ge...</td>\n",
       "      <td>21.709091</td>\n",
       "      <td>218.2412</td>\n",
       "      <td>9.03625</td>\n",
       "      <td>10.18155</td>\n",
       "      <td>sh</td>\n",
       "      <td>190.867886</td>\n",
       "    </tr>\n",
       "    <tr>\n",
       "      <th>4</th>\n",
       "      <td>1812.7224</td>\n",
       "      <td>6.2646</td>\n",
       "      <td>5.9241</td>\n",
       "      <td>6.0360</td>\n",
       "      <td>5.5879</td>\n",
       "      <td>5.5494</td>\n",
       "      <td>12.3879</td>\n",
       "      <td>-0.0057</td>\n",
       "      <td>2.2011</td>\n",
       "      <td>113.7887</td>\n",
       "      <td>...</td>\n",
       "      <td>60.32</td>\n",
       "      <td>/home/aan23/code/ads-arcadia-reservoirrocks/ge...</td>\n",
       "      <td>(1812.0, 1839.0)</td>\n",
       "      <td>/home/aan23/code/ads-arcadia-reservoirrocks/ge...</td>\n",
       "      <td>21.303636</td>\n",
       "      <td>220.1747</td>\n",
       "      <td>6.09435</td>\n",
       "      <td>5.81195</td>\n",
       "      <td>sh</td>\n",
       "      <td>164.952871</td>\n",
       "    </tr>\n",
       "    <tr>\n",
       "      <th>...</th>\n",
       "      <td>...</td>\n",
       "      <td>...</td>\n",
       "      <td>...</td>\n",
       "      <td>...</td>\n",
       "      <td>...</td>\n",
       "      <td>...</td>\n",
       "      <td>...</td>\n",
       "      <td>...</td>\n",
       "      <td>...</td>\n",
       "      <td>...</td>\n",
       "      <td>...</td>\n",
       "      <td>...</td>\n",
       "      <td>...</td>\n",
       "      <td>...</td>\n",
       "      <td>...</td>\n",
       "      <td>...</td>\n",
       "      <td>...</td>\n",
       "      <td>...</td>\n",
       "      <td>...</td>\n",
       "      <td>...</td>\n",
       "      <td>...</td>\n",
       "    </tr>\n",
       "    <tr>\n",
       "      <th>172</th>\n",
       "      <td>1838.3256</td>\n",
       "      <td>20.8626</td>\n",
       "      <td>18.3823</td>\n",
       "      <td>20.0937</td>\n",
       "      <td>22.0598</td>\n",
       "      <td>22.6662</td>\n",
       "      <td>12.0397</td>\n",
       "      <td>-0.0022</td>\n",
       "      <td>2.1216</td>\n",
       "      <td>113.0804</td>\n",
       "      <td>...</td>\n",
       "      <td>60.32</td>\n",
       "      <td>/home/aan23/code/ads-arcadia-reservoirrocks/ge...</td>\n",
       "      <td>(1812.0, 1839.0)</td>\n",
       "      <td>/home/aan23/code/ads-arcadia-reservoirrocks/ge...</td>\n",
       "      <td>NaN</td>\n",
       "      <td>219.4811</td>\n",
       "      <td>19.62245</td>\n",
       "      <td>21.07675</td>\n",
       "      <td>s</td>\n",
       "      <td>538.182534</td>\n",
       "    </tr>\n",
       "    <tr>\n",
       "      <th>173</th>\n",
       "      <td>1838.4780</td>\n",
       "      <td>12.7805</td>\n",
       "      <td>12.1935</td>\n",
       "      <td>11.7513</td>\n",
       "      <td>10.9993</td>\n",
       "      <td>11.3030</td>\n",
       "      <td>12.0398</td>\n",
       "      <td>-0.0032</td>\n",
       "      <td>2.1463</td>\n",
       "      <td>111.3214</td>\n",
       "      <td>...</td>\n",
       "      <td>60.32</td>\n",
       "      <td>/home/aan23/code/ads-arcadia-reservoirrocks/ge...</td>\n",
       "      <td>(1812.0, 1839.0)</td>\n",
       "      <td>/home/aan23/code/ads-arcadia-reservoirrocks/ge...</td>\n",
       "      <td>NaN</td>\n",
       "      <td>216.7141</td>\n",
       "      <td>12.48700</td>\n",
       "      <td>11.37530</td>\n",
       "      <td>s</td>\n",
       "      <td>571.579619</td>\n",
       "    </tr>\n",
       "    <tr>\n",
       "      <th>174</th>\n",
       "      <td>1838.6304</td>\n",
       "      <td>12.0224</td>\n",
       "      <td>11.6012</td>\n",
       "      <td>11.0317</td>\n",
       "      <td>10.2385</td>\n",
       "      <td>10.5162</td>\n",
       "      <td>12.0434</td>\n",
       "      <td>-0.0028</td>\n",
       "      <td>2.1593</td>\n",
       "      <td>111.0893</td>\n",
       "      <td>...</td>\n",
       "      <td>60.32</td>\n",
       "      <td>/home/aan23/code/ads-arcadia-reservoirrocks/ge...</td>\n",
       "      <td>(1812.0, 1839.0)</td>\n",
       "      <td>/home/aan23/code/ads-arcadia-reservoirrocks/ge...</td>\n",
       "      <td>NaN</td>\n",
       "      <td>212.8055</td>\n",
       "      <td>11.81180</td>\n",
       "      <td>10.63510</td>\n",
       "      <td>s</td>\n",
       "      <td>581.123645</td>\n",
       "    </tr>\n",
       "    <tr>\n",
       "      <th>175</th>\n",
       "      <td>1838.7828</td>\n",
       "      <td>21.1402</td>\n",
       "      <td>21.3104</td>\n",
       "      <td>20.0040</td>\n",
       "      <td>18.3240</td>\n",
       "      <td>19.0343</td>\n",
       "      <td>12.0410</td>\n",
       "      <td>-0.0037</td>\n",
       "      <td>2.1471</td>\n",
       "      <td>111.0625</td>\n",
       "      <td>...</td>\n",
       "      <td>60.32</td>\n",
       "      <td>/home/aan23/code/ads-arcadia-reservoirrocks/ge...</td>\n",
       "      <td>(1812.0, 1839.0)</td>\n",
       "      <td>/home/aan23/code/ads-arcadia-reservoirrocks/ge...</td>\n",
       "      <td>NaN</td>\n",
       "      <td>217.7123</td>\n",
       "      <td>21.22530</td>\n",
       "      <td>19.16400</td>\n",
       "      <td>s</td>\n",
       "      <td>605.378399</td>\n",
       "    </tr>\n",
       "    <tr>\n",
       "      <th>176</th>\n",
       "      <td>1838.9352</td>\n",
       "      <td>29.1733</td>\n",
       "      <td>30.5394</td>\n",
       "      <td>28.4992</td>\n",
       "      <td>27.1141</td>\n",
       "      <td>28.2405</td>\n",
       "      <td>12.0434</td>\n",
       "      <td>-0.0065</td>\n",
       "      <td>2.1289</td>\n",
       "      <td>112.3065</td>\n",
       "      <td>...</td>\n",
       "      <td>60.32</td>\n",
       "      <td>/home/aan23/code/ads-arcadia-reservoirrocks/ge...</td>\n",
       "      <td>(1812.0, 1839.0)</td>\n",
       "      <td>/home/aan23/code/ads-arcadia-reservoirrocks/ge...</td>\n",
       "      <td>NaN</td>\n",
       "      <td>217.5946</td>\n",
       "      <td>29.85635</td>\n",
       "      <td>27.80665</td>\n",
       "      <td>s</td>\n",
       "      <td>586.184485</td>\n",
       "    </tr>\n",
       "  </tbody>\n",
       "</table>\n",
       "<p>177 rows × 29 columns</p>\n",
       "</div>"
      ],
      "text/plain": [
       "         DEPTH     AT10     AT20     AT30     AT60     AT90     CALI    DENC  \\\n",
       "0    1812.1128  30.0065  36.7240  35.2649  23.4317  23.9072  12.1180 -0.0042   \n",
       "1    1812.2652  22.9037  25.8406  25.6090  20.0650  19.8106  12.2103 -0.0040   \n",
       "2    1812.4176  10.9299  11.0440  11.5311  13.7229  13.2441  12.3622 -0.0022   \n",
       "3    1812.5700   9.0866   8.9859   9.4058  10.9573  10.7390  12.3830 -0.0002   \n",
       "4    1812.7224   6.2646   5.9241   6.0360   5.5879   5.5494  12.3879 -0.0057   \n",
       "..         ...      ...      ...      ...      ...      ...      ...     ...   \n",
       "172  1838.3256  20.8626  18.3823  20.0937  22.0598  22.6662  12.0397 -0.0022   \n",
       "173  1838.4780  12.7805  12.1935  11.7513  10.9993  11.3030  12.0398 -0.0032   \n",
       "174  1838.6304  12.0224  11.6012  11.0317  10.2385  10.5162  12.0434 -0.0028   \n",
       "175  1838.7828  21.1402  21.3104  20.0040  18.3240  19.0343  12.0410 -0.0037   \n",
       "176  1838.9352  29.1733  30.5394  28.4992  27.1141  28.2405  12.0434 -0.0065   \n",
       "\n",
       "       DENS       DTC  ...    lat  \\\n",
       "0    2.1037  114.4911  ...  60.32   \n",
       "1    2.1119  114.2857  ...  60.32   \n",
       "2    2.1415  113.9048  ...  60.32   \n",
       "3    2.1711  113.7173  ...  60.32   \n",
       "4    2.2011  113.7887  ...  60.32   \n",
       "..      ...       ...  ...    ...   \n",
       "172  2.1216  113.0804  ...  60.32   \n",
       "173  2.1463  111.3214  ...  60.32   \n",
       "174  2.1593  111.0893  ...  60.32   \n",
       "175  2.1471  111.0625  ...  60.32   \n",
       "176  2.1289  112.3065  ...  60.32   \n",
       "\n",
       "                                            depth_file       core_depths  \\\n",
       "0    /home/aan23/code/ads-arcadia-reservoirrocks/ge...  (1812.0, 1839.0)   \n",
       "1    /home/aan23/code/ads-arcadia-reservoirrocks/ge...  (1812.0, 1839.0)   \n",
       "2    /home/aan23/code/ads-arcadia-reservoirrocks/ge...  (1812.0, 1839.0)   \n",
       "3    /home/aan23/code/ads-arcadia-reservoirrocks/ge...  (1812.0, 1839.0)   \n",
       "4    /home/aan23/code/ads-arcadia-reservoirrocks/ge...  (1812.0, 1839.0)   \n",
       "..                                                 ...               ...   \n",
       "172  /home/aan23/code/ads-arcadia-reservoirrocks/ge...  (1812.0, 1839.0)   \n",
       "173  /home/aan23/code/ads-arcadia-reservoirrocks/ge...  (1812.0, 1839.0)   \n",
       "174  /home/aan23/code/ads-arcadia-reservoirrocks/ge...  (1812.0, 1839.0)   \n",
       "175  /home/aan23/code/ads-arcadia-reservoirrocks/ge...  (1812.0, 1839.0)   \n",
       "176  /home/aan23/code/ads-arcadia-reservoirrocks/ge...  (1812.0, 1839.0)   \n",
       "\n",
       "                                            image_file   porosity       DTS  \\\n",
       "0    /home/aan23/code/ads-arcadia-reservoirrocks/ge...  23.372133  216.7765   \n",
       "1    /home/aan23/code/ads-arcadia-reservoirrocks/ge...  24.032533  216.3390   \n",
       "2    /home/aan23/code/ads-arcadia-reservoirrocks/ge...  23.273333  222.1246   \n",
       "3    /home/aan23/code/ads-arcadia-reservoirrocks/ge...  21.709091  218.2412   \n",
       "4    /home/aan23/code/ads-arcadia-reservoirrocks/ge...  21.303636  220.1747   \n",
       "..                                                 ...        ...       ...   \n",
       "172  /home/aan23/code/ads-arcadia-reservoirrocks/ge...        NaN  219.4811   \n",
       "173  /home/aan23/code/ads-arcadia-reservoirrocks/ge...        NaN  216.7141   \n",
       "174  /home/aan23/code/ads-arcadia-reservoirrocks/ge...        NaN  212.8055   \n",
       "175  /home/aan23/code/ads-arcadia-reservoirrocks/ge...        NaN  217.7123   \n",
       "176  /home/aan23/code/ads-arcadia-reservoirrocks/ge...        NaN  217.5946   \n",
       "\n",
       "        RSHAL      RMED  facies  permeability  \n",
       "0    33.36525  29.34830      sh    341.340980  \n",
       "1    24.37215  22.83700      sh    334.483227  \n",
       "2    10.98695  12.62700      sh    303.826644  \n",
       "3     9.03625  10.18155      sh    190.867886  \n",
       "4     6.09435   5.81195      sh    164.952871  \n",
       "..        ...       ...     ...           ...  \n",
       "172  19.62245  21.07675       s    538.182534  \n",
       "173  12.48700  11.37530       s    571.579619  \n",
       "174  11.81180  10.63510       s    581.123645  \n",
       "175  21.22530  19.16400       s    605.378399  \n",
       "176  29.85635  27.80665       s    586.184485  \n",
       "\n",
       "[177 rows x 29 columns]"
      ]
     },
     "execution_count": 8,
     "metadata": {},
     "output_type": "execute_result"
    }
   ],
   "source": [
    "interpreter.df"
   ]
  },
  {
   "cell_type": "code",
   "execution_count": 9,
   "metadata": {},
   "outputs": [],
   "source": [
    "interpreter.save_df()"
   ]
  },
  {
   "cell_type": "markdown",
   "metadata": {},
   "source": [
    "# Plot Visualization"
   ]
  },
  {
   "cell_type": "code",
   "execution_count": 10,
   "metadata": {},
   "outputs": [
    {
     "name": "stdout",
     "output_type": "stream",
     "text": [
      "Dataframe already contains the predicted permeability and facies\n"
     ]
    },
    {
     "data": {
      "application/vnd.jupyter.widget-view+json": {
       "model_id": "4cb6153396d04764a1616eec6c7c70e0",
       "version_major": 2,
       "version_minor": 0
      },
      "text/plain": [
       "interactive(children=(Dropdown(description='well_name', options=('205-21b-3',), value='205-21b-3'), Output()),…"
      ]
     },
     "metadata": {},
     "output_type": "display_data"
    }
   ],
   "source": [
    "interpreter.plot_results()"
   ]
  },
  {
   "cell_type": "code",
   "execution_count": null,
   "metadata": {},
   "outputs": [],
   "source": []
  }
 ],
 "metadata": {
  "kernelspec": {
   "display_name": "arcadia",
   "language": "python",
   "name": "python3"
  },
  "language_info": {
   "codemirror_mode": {
    "name": "ipython",
    "version": 3
   },
   "file_extension": ".py",
   "mimetype": "text/x-python",
   "name": "python",
   "nbconvert_exporter": "python",
   "pygments_lexer": "ipython3",
   "version": "3.11.0"
  }
 },
 "nbformat": 4,
 "nbformat_minor": 2
}
